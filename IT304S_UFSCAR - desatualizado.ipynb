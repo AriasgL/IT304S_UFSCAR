{
  "nbformat": 4,
  "nbformat_minor": 0,
  "metadata": {
    "colab": {
      "name": "IT304S_UFSCAR.ipynb",
      "provenance": [],
      "collapsed_sections": [],
      "toc_visible": true,
      "authorship_tag": "ABX9TyNX3kmZWKzC3cWqiaFXwXp0",
      "include_colab_link": true
    },
    "kernelspec": {
      "name": "python3",
      "display_name": "Python 3"
    }
  },
  "cells": [
    {
      "cell_type": "markdown",
      "metadata": {
        "id": "view-in-github",
        "colab_type": "text"
      },
      "source": [
        "<a href=\"https://colab.research.google.com/github/AriasgL/IT304S_UFSCAR/blob/main/IT304S_UFSCAR.ipynb\" target=\"_parent\"><img src=\"https://colab.research.google.com/assets/colab-badge.svg\" alt=\"Open In Colab\"/></a>"
      ]
    },
    {
      "cell_type": "markdown",
      "metadata": {
        "id": "1eoO4WzpoYu1"
      },
      "source": [
        "#IT304S: Contratação de Energia para Grandes Consumidores.\r\n",
        "\r\n",
        "Prof. Dr. Luiz Carlos Pereira da Silva\r\n",
        "\r\n",
        "UFSCAR Grupo 3 Analise de Consumo"
      ]
    },
    {
      "cell_type": "markdown",
      "metadata": {
        "id": "TNWaKMkVehTO"
      },
      "source": [
        "**PROJETO:** AVALIAÇÃO DA MIGRAÇÃO DE UNIVERSIDADE FEDERAL DE SÃO CARLOS PARA O MERCADO LIVRE DE ENERGIA."
      ]
    },
    {
      "cell_type": "markdown",
      "metadata": {
        "id": "PwtamK0UfBLI"
      },
      "source": [
        "**PROJET:** EVALUATION OF THE MIGRATION OF THE FEDERAL UNIVERSITY OF SÃO CARLOS FOR THE FREE ENERGY MARKET."
      ]
    },
    {
      "cell_type": "markdown",
      "metadata": {
        "id": "6Zwhj6WjfZle"
      },
      "source": [
        "**Descripção Resumida do Projeto:**\r\n",
        "\r\n",
        "A Universidade Federal de São Carlos possui 4 Unidades Consumidoras, as unidades de São Carlos e Sorocaba trabalham com a conceição da CPFL, e as unidades de Araras e Lagoa do Sino com Elektro. Todas dentro do Grupo A4.\r\n",
        "\r\n",
        "Neste projeto se estuda o consumo de 3 UC, com dados recoletados das faturas e tabelas fornecidos pelo time do curso, para assim avaliar a possibilidade da migração da UFSCAR para o mercado livre de energia. \r\n",
        "\r\n"
      ]
    },
    {
      "cell_type": "markdown",
      "metadata": {
        "id": "e4aTS7yHpetL"
      },
      "source": [
        "**Abstract**\r\n",
        "\r\n",
        "The Federal University of São Carlos has 4 Consumer Units, the São Carlos and Sorocaba units work with the concept of CPFL, and the Araras and Lagoa do Sino units with Elektro. All within the A4 Group.\r\n",
        "\r\n",
        "In this project, the consumption of 3 UCs is studied, with data collected from the invoices and tables provided by the course team, in order to evaluate the possibility of migration from UFSCAR to the energy free market."
      ]
    },
    {
      "cell_type": "markdown",
      "metadata": {
        "id": "r0zHwpoGxm-9"
      },
      "source": [
        " **Equipe**\r\n",
        "\r\n",
        " * Leandro A. Arias Galicia.\r\n",
        " * Jose Roberto dos Santos Junior.\r\n",
        " * Robson F. Santos Junior.\r\n",
        " * Matheus Grandolpho."
      ]
    },
    {
      "cell_type": "markdown",
      "metadata": {
        "id": "PCOPRgtxooiy"
      },
      "source": [
        "# Metodologia"
      ]
    },
    {
      "cell_type": "markdown",
      "metadata": {
        "id": "3a7AT80Now-v"
      },
      "source": [
        "CRISP DM é a abreviação de Cross Industry Standard Process for Data Mining que, trazendo para o português, pode ser entendida como processo padrão da indústria cruzada para mineração de dados. Essa é uma metodologia capaz de transformar os dados da empresa em conhecimento e informações de gerenciamento.\r\n",
        "\r\n",
        "A metodologia CRISP DM define o ciclo de vida do projeto, dividindo-o em seis etapas, que vamos conhecer agora:\r\n",
        "\r\n",
        "* Business Understanding: Definição dos objetivos, declaração do problema, pergunta de interesse.\r\n",
        "\r\n",
        "* Data Understanding: Utilização de nosso conhecimento para coletar os dados.\r\n",
        "\r\n",
        "* Data Preparation: Manipulação de dados para a eliminação de outliers e dados faltantes.\r\n",
        "\r\n",
        "* Modeling: Modelo ou abordagem utilizado para estudar o comportamento de nosso sistema a partir de nossos dados.\r\n",
        "\r\n",
        "* Evaluation: Avaliação dos resultados obtidos, no contexto se são de ajuda para responder nossa pergunta de interesse.\r\n",
        "\r\n",
        "* Deployment: Disponibilizar o análise de dados."
      ]
    },
    {
      "cell_type": "markdown",
      "metadata": {
        "id": "1a4pqXUbpsdD"
      },
      "source": [
        "# Business Understanding"
      ]
    },
    {
      "cell_type": "markdown",
      "metadata": {
        "id": "wnnwo5EWqti8"
      },
      "source": [
        "Definição dos objetivos: O objetivo do presente notebook é apresentar as variaveis disponíveis no banco de dados UFCSAR.xlsx.\r\n",
        "Declaração do problema: O arquivo UFSCAR.xlsx, contém as informações disponíveis das planilhas elétricas da UFSCAR, precisamos de fazer um analize exploratorio dos dados para conhecer os dados disponíveis da UFSCAR.\r\n",
        "Perguntas de Interesse: Há dados faltantes?"
      ]
    },
    {
      "cell_type": "markdown",
      "metadata": {
        "id": "rpWAhvIpqoxx"
      },
      "source": [
        "# Data Understanding"
      ]
    },
    {
      "cell_type": "code",
      "metadata": {
        "colab": {
          "base_uri": "https://localhost:8080/"
        },
        "id": "KymLpWdUq5mJ",
        "outputId": "57078960-0731-4399-99b9-a95b33adde31"
      },
      "source": [
        "!git clone https://github.com/AriasgL/IT304S_UFSCAR.git"
      ],
      "execution_count": null,
      "outputs": [
        {
          "output_type": "stream",
          "text": [
            "fatal: destination path 'IT304S_UFSCAR' already exists and is not an empty directory.\n"
          ],
          "name": "stdout"
        }
      ]
    },
    {
      "cell_type": "code",
      "metadata": {
        "id": "eeN18aJPt1RH"
      },
      "source": [
        "import pandas as pd"
      ],
      "execution_count": null,
      "outputs": []
    },
    {
      "cell_type": "code",
      "metadata": {
        "colab": {
          "base_uri": "https://localhost:8080/",
          "height": 340
        },
        "id": "KjQjbUIWuFTn",
        "outputId": "e09f2e2d-2c30-457f-f447-67cae598fc21"
      },
      "source": [
        "abas_de_excel =  pd.ExcelFile(\"/content/IT304S_UFSCAR/Universidade.xlsx\")\r\n",
        "abas_de_excel.sheet_names"
      ],
      "execution_count": null,
      "outputs": [
        {
          "output_type": "error",
          "ename": "FileNotFoundError",
          "evalue": "ignored",
          "traceback": [
            "\u001b[0;31m---------------------------------------------------------------------------\u001b[0m",
            "\u001b[0;31mFileNotFoundError\u001b[0m                         Traceback (most recent call last)",
            "\u001b[0;32m<ipython-input-12-fb5bdf0e3a8e>\u001b[0m in \u001b[0;36m<module>\u001b[0;34m()\u001b[0m\n\u001b[0;32m----> 1\u001b[0;31m \u001b[0mabas_de_excel\u001b[0m \u001b[0;34m=\u001b[0m  \u001b[0mpd\u001b[0m\u001b[0;34m.\u001b[0m\u001b[0mExcelFile\u001b[0m\u001b[0;34m(\u001b[0m\u001b[0;34m\"/content/IT304S_UFSCAR/Universidade.xlsx\"\u001b[0m\u001b[0;34m)\u001b[0m\u001b[0;34m\u001b[0m\u001b[0;34m\u001b[0m\u001b[0m\n\u001b[0m\u001b[1;32m      2\u001b[0m \u001b[0mabas_de_excel\u001b[0m\u001b[0;34m.\u001b[0m\u001b[0msheet_names\u001b[0m\u001b[0;34m\u001b[0m\u001b[0;34m\u001b[0m\u001b[0m\n",
            "\u001b[0;32m/usr/local/lib/python3.6/dist-packages/pandas/io/excel/_base.py\u001b[0m in \u001b[0;36m__init__\u001b[0;34m(self, path_or_buffer, engine)\u001b[0m\n\u001b[1;32m    865\u001b[0m         \u001b[0mself\u001b[0m\u001b[0;34m.\u001b[0m\u001b[0m_io\u001b[0m \u001b[0;34m=\u001b[0m \u001b[0mstringify_path\u001b[0m\u001b[0;34m(\u001b[0m\u001b[0mpath_or_buffer\u001b[0m\u001b[0;34m)\u001b[0m\u001b[0;34m\u001b[0m\u001b[0;34m\u001b[0m\u001b[0m\n\u001b[1;32m    866\u001b[0m \u001b[0;34m\u001b[0m\u001b[0m\n\u001b[0;32m--> 867\u001b[0;31m         \u001b[0mself\u001b[0m\u001b[0;34m.\u001b[0m\u001b[0m_reader\u001b[0m \u001b[0;34m=\u001b[0m \u001b[0mself\u001b[0m\u001b[0;34m.\u001b[0m\u001b[0m_engines\u001b[0m\u001b[0;34m[\u001b[0m\u001b[0mengine\u001b[0m\u001b[0;34m]\u001b[0m\u001b[0;34m(\u001b[0m\u001b[0mself\u001b[0m\u001b[0;34m.\u001b[0m\u001b[0m_io\u001b[0m\u001b[0;34m)\u001b[0m\u001b[0;34m\u001b[0m\u001b[0;34m\u001b[0m\u001b[0m\n\u001b[0m\u001b[1;32m    868\u001b[0m \u001b[0;34m\u001b[0m\u001b[0m\n\u001b[1;32m    869\u001b[0m     \u001b[0;32mdef\u001b[0m \u001b[0m__fspath__\u001b[0m\u001b[0;34m(\u001b[0m\u001b[0mself\u001b[0m\u001b[0;34m)\u001b[0m\u001b[0;34m:\u001b[0m\u001b[0;34m\u001b[0m\u001b[0;34m\u001b[0m\u001b[0m\n",
            "\u001b[0;32m/usr/local/lib/python3.6/dist-packages/pandas/io/excel/_xlrd.py\u001b[0m in \u001b[0;36m__init__\u001b[0;34m(self, filepath_or_buffer)\u001b[0m\n\u001b[1;32m     20\u001b[0m         \u001b[0merr_msg\u001b[0m \u001b[0;34m=\u001b[0m \u001b[0;34m\"Install xlrd >= 1.0.0 for Excel support\"\u001b[0m\u001b[0;34m\u001b[0m\u001b[0;34m\u001b[0m\u001b[0m\n\u001b[1;32m     21\u001b[0m         \u001b[0mimport_optional_dependency\u001b[0m\u001b[0;34m(\u001b[0m\u001b[0;34m\"xlrd\"\u001b[0m\u001b[0;34m,\u001b[0m \u001b[0mextra\u001b[0m\u001b[0;34m=\u001b[0m\u001b[0merr_msg\u001b[0m\u001b[0;34m)\u001b[0m\u001b[0;34m\u001b[0m\u001b[0;34m\u001b[0m\u001b[0m\n\u001b[0;32m---> 22\u001b[0;31m         \u001b[0msuper\u001b[0m\u001b[0;34m(\u001b[0m\u001b[0;34m)\u001b[0m\u001b[0;34m.\u001b[0m\u001b[0m__init__\u001b[0m\u001b[0;34m(\u001b[0m\u001b[0mfilepath_or_buffer\u001b[0m\u001b[0;34m)\u001b[0m\u001b[0;34m\u001b[0m\u001b[0;34m\u001b[0m\u001b[0m\n\u001b[0m\u001b[1;32m     23\u001b[0m \u001b[0;34m\u001b[0m\u001b[0m\n\u001b[1;32m     24\u001b[0m     \u001b[0;34m@\u001b[0m\u001b[0mproperty\u001b[0m\u001b[0;34m\u001b[0m\u001b[0;34m\u001b[0m\u001b[0m\n",
            "\u001b[0;32m/usr/local/lib/python3.6/dist-packages/pandas/io/excel/_base.py\u001b[0m in \u001b[0;36m__init__\u001b[0;34m(self, filepath_or_buffer)\u001b[0m\n\u001b[1;32m    351\u001b[0m             \u001b[0mself\u001b[0m\u001b[0;34m.\u001b[0m\u001b[0mbook\u001b[0m \u001b[0;34m=\u001b[0m \u001b[0mself\u001b[0m\u001b[0;34m.\u001b[0m\u001b[0mload_workbook\u001b[0m\u001b[0;34m(\u001b[0m\u001b[0mfilepath_or_buffer\u001b[0m\u001b[0;34m)\u001b[0m\u001b[0;34m\u001b[0m\u001b[0;34m\u001b[0m\u001b[0m\n\u001b[1;32m    352\u001b[0m         \u001b[0;32melif\u001b[0m \u001b[0misinstance\u001b[0m\u001b[0;34m(\u001b[0m\u001b[0mfilepath_or_buffer\u001b[0m\u001b[0;34m,\u001b[0m \u001b[0mstr\u001b[0m\u001b[0;34m)\u001b[0m\u001b[0;34m:\u001b[0m\u001b[0;34m\u001b[0m\u001b[0;34m\u001b[0m\u001b[0m\n\u001b[0;32m--> 353\u001b[0;31m             \u001b[0mself\u001b[0m\u001b[0;34m.\u001b[0m\u001b[0mbook\u001b[0m \u001b[0;34m=\u001b[0m \u001b[0mself\u001b[0m\u001b[0;34m.\u001b[0m\u001b[0mload_workbook\u001b[0m\u001b[0;34m(\u001b[0m\u001b[0mfilepath_or_buffer\u001b[0m\u001b[0;34m)\u001b[0m\u001b[0;34m\u001b[0m\u001b[0;34m\u001b[0m\u001b[0m\n\u001b[0m\u001b[1;32m    354\u001b[0m         \u001b[0;32melif\u001b[0m \u001b[0misinstance\u001b[0m\u001b[0;34m(\u001b[0m\u001b[0mfilepath_or_buffer\u001b[0m\u001b[0;34m,\u001b[0m \u001b[0mbytes\u001b[0m\u001b[0;34m)\u001b[0m\u001b[0;34m:\u001b[0m\u001b[0;34m\u001b[0m\u001b[0;34m\u001b[0m\u001b[0m\n\u001b[1;32m    355\u001b[0m             \u001b[0mself\u001b[0m\u001b[0;34m.\u001b[0m\u001b[0mbook\u001b[0m \u001b[0;34m=\u001b[0m \u001b[0mself\u001b[0m\u001b[0;34m.\u001b[0m\u001b[0mload_workbook\u001b[0m\u001b[0;34m(\u001b[0m\u001b[0mBytesIO\u001b[0m\u001b[0;34m(\u001b[0m\u001b[0mfilepath_or_buffer\u001b[0m\u001b[0;34m)\u001b[0m\u001b[0;34m)\u001b[0m\u001b[0;34m\u001b[0m\u001b[0;34m\u001b[0m\u001b[0m\n",
            "\u001b[0;32m/usr/local/lib/python3.6/dist-packages/pandas/io/excel/_xlrd.py\u001b[0m in \u001b[0;36mload_workbook\u001b[0;34m(self, filepath_or_buffer)\u001b[0m\n\u001b[1;32m     35\u001b[0m             \u001b[0;32mreturn\u001b[0m \u001b[0mopen_workbook\u001b[0m\u001b[0;34m(\u001b[0m\u001b[0mfile_contents\u001b[0m\u001b[0;34m=\u001b[0m\u001b[0mdata\u001b[0m\u001b[0;34m)\u001b[0m\u001b[0;34m\u001b[0m\u001b[0;34m\u001b[0m\u001b[0m\n\u001b[1;32m     36\u001b[0m         \u001b[0;32melse\u001b[0m\u001b[0;34m:\u001b[0m\u001b[0;34m\u001b[0m\u001b[0;34m\u001b[0m\u001b[0m\n\u001b[0;32m---> 37\u001b[0;31m             \u001b[0;32mreturn\u001b[0m \u001b[0mopen_workbook\u001b[0m\u001b[0;34m(\u001b[0m\u001b[0mfilepath_or_buffer\u001b[0m\u001b[0;34m)\u001b[0m\u001b[0;34m\u001b[0m\u001b[0;34m\u001b[0m\u001b[0m\n\u001b[0m\u001b[1;32m     38\u001b[0m \u001b[0;34m\u001b[0m\u001b[0m\n\u001b[1;32m     39\u001b[0m     \u001b[0;34m@\u001b[0m\u001b[0mproperty\u001b[0m\u001b[0;34m\u001b[0m\u001b[0;34m\u001b[0m\u001b[0m\n",
            "\u001b[0;32m/usr/local/lib/python3.6/dist-packages/xlrd/__init__.py\u001b[0m in \u001b[0;36mopen_workbook\u001b[0;34m(filename, logfile, verbosity, use_mmap, file_contents, encoding_override, formatting_info, on_demand, ragged_rows)\u001b[0m\n\u001b[1;32m    114\u001b[0m         \u001b[0mpeek\u001b[0m \u001b[0;34m=\u001b[0m \u001b[0mfile_contents\u001b[0m\u001b[0;34m[\u001b[0m\u001b[0;34m:\u001b[0m\u001b[0mpeeksz\u001b[0m\u001b[0;34m]\u001b[0m\u001b[0;34m\u001b[0m\u001b[0;34m\u001b[0m\u001b[0m\n\u001b[1;32m    115\u001b[0m     \u001b[0;32melse\u001b[0m\u001b[0;34m:\u001b[0m\u001b[0;34m\u001b[0m\u001b[0;34m\u001b[0m\u001b[0m\n\u001b[0;32m--> 116\u001b[0;31m         \u001b[0;32mwith\u001b[0m \u001b[0mopen\u001b[0m\u001b[0;34m(\u001b[0m\u001b[0mfilename\u001b[0m\u001b[0;34m,\u001b[0m \u001b[0;34m\"rb\"\u001b[0m\u001b[0;34m)\u001b[0m \u001b[0;32mas\u001b[0m \u001b[0mf\u001b[0m\u001b[0;34m:\u001b[0m\u001b[0;34m\u001b[0m\u001b[0;34m\u001b[0m\u001b[0m\n\u001b[0m\u001b[1;32m    117\u001b[0m             \u001b[0mpeek\u001b[0m \u001b[0;34m=\u001b[0m \u001b[0mf\u001b[0m\u001b[0;34m.\u001b[0m\u001b[0mread\u001b[0m\u001b[0;34m(\u001b[0m\u001b[0mpeeksz\u001b[0m\u001b[0;34m)\u001b[0m\u001b[0;34m\u001b[0m\u001b[0;34m\u001b[0m\u001b[0m\n\u001b[1;32m    118\u001b[0m     \u001b[0;32mif\u001b[0m \u001b[0mpeek\u001b[0m \u001b[0;34m==\u001b[0m \u001b[0;34mb\"PK\\x03\\x04\"\u001b[0m\u001b[0;34m:\u001b[0m \u001b[0;31m# a ZIP file\u001b[0m\u001b[0;34m\u001b[0m\u001b[0;34m\u001b[0m\u001b[0m\n",
            "\u001b[0;31mFileNotFoundError\u001b[0m: [Errno 2] No such file or directory: '/content/IT304S_UFSCAR/Universidade.xlsx'"
          ]
        }
      ]
    },
    {
      "cell_type": "code",
      "metadata": {
        "id": "z4-LQg363Zqv"
      },
      "source": [
        "UC1 = abas_de_excel.parse(\"UC1\")\r\n",
        "UC1.shape"
      ],
      "execution_count": null,
      "outputs": []
    },
    {
      "cell_type": "code",
      "metadata": {
        "id": "6pPHAn2tyYOk"
      },
      "source": [
        "UC2 = abas_de_excel.parse(\"UC2\")\r\n",
        "UC2.shape"
      ],
      "execution_count": null,
      "outputs": []
    },
    {
      "cell_type": "code",
      "metadata": {
        "id": "YsNKGFCe3YAc"
      },
      "source": [
        "UC1.head()"
      ],
      "execution_count": null,
      "outputs": []
    },
    {
      "cell_type": "code",
      "metadata": {
        "id": "Myn069Kd0DH9"
      },
      "source": [
        "UC2.head()"
      ],
      "execution_count": null,
      "outputs": []
    },
    {
      "cell_type": "markdown",
      "metadata": {
        "id": "z8CgVFB91X9E"
      },
      "source": [
        "# Data Preparation"
      ]
    },
    {
      "cell_type": "code",
      "metadata": {
        "id": "vbCt69Cb1jyI"
      },
      "source": [
        "import numpy as np"
      ],
      "execution_count": null,
      "outputs": []
    },
    {
      "cell_type": "code",
      "metadata": {
        "id": "dz1PjGJJ1m8E"
      },
      "source": [
        "np.nan + np.nan"
      ],
      "execution_count": null,
      "outputs": []
    },
    {
      "cell_type": "markdown",
      "metadata": {
        "id": "ANHMR_6v45NY"
      },
      "source": [
        "# Dados Faltantes\r\n"
      ]
    },
    {
      "cell_type": "code",
      "metadata": {
        "id": "xI1W4FOL5BWW"
      },
      "source": [
        "import missingno as msno"
      ],
      "execution_count": null,
      "outputs": []
    },
    {
      "cell_type": "code",
      "metadata": {
        "id": "t-bVWcYY5FOw"
      },
      "source": [
        "msno.bar(UC1, color=\"RoyalBlue\") #para visualizar a integridade do datafram"
      ],
      "execution_count": null,
      "outputs": []
    },
    {
      "cell_type": "code",
      "metadata": {
        "id": "t5TwgKnR588V"
      },
      "source": [
        "msno.bar(UC2, color=\"RoyalBlue\") #para visualizar a integridade do datafram"
      ],
      "execution_count": null,
      "outputs": []
    },
    {
      "cell_type": "code",
      "metadata": {
        "id": "0EYIrKbS6J9-"
      },
      "source": [
        "msno.matrix(UC1, color = (0.25,0.4,0.8))"
      ],
      "execution_count": null,
      "outputs": []
    },
    {
      "cell_type": "code",
      "metadata": {
        "id": "0jEWQzEY6OaG"
      },
      "source": [
        "msno.matrix(UC2, color = (0.25,0.4,0.8))"
      ],
      "execution_count": null,
      "outputs": []
    },
    {
      "cell_type": "markdown",
      "metadata": {
        "id": "q0d21wJoVCbv"
      },
      "source": [
        "Matriz de Correlacion. "
      ]
    },
    {
      "cell_type": "code",
      "metadata": {
        "id": "pN1OPTX46Vcj"
      },
      "source": [
        "msno.heatmap(UC1)"
      ],
      "execution_count": null,
      "outputs": []
    },
    {
      "cell_type": "code",
      "metadata": {
        "id": "7rmfpaZ_6Xp0"
      },
      "source": [
        "msno.heatmap(UC2)"
      ],
      "execution_count": null,
      "outputs": []
    },
    {
      "cell_type": "markdown",
      "metadata": {
        "id": "7a_ahTJ3VK3i"
      },
      "source": [
        "Limpeça de Dados Faltantes"
      ]
    },
    {
      "cell_type": "code",
      "metadata": {
        "id": "ENKA6eBc6oW9"
      },
      "source": [
        "UC1_df = UC1.drop(set(UC1.columns[UC1.isnull().mean() >0.8]), 1)\r\n",
        "UC1_df.shape"
      ],
      "execution_count": null,
      "outputs": []
    },
    {
      "cell_type": "code",
      "metadata": {
        "id": "DFD-lReg6zDs"
      },
      "source": [
        "UC2_df = UC2.drop(set(UC2.columns[UC2.isnull().mean() >0.8]), 1)\r\n",
        "UC2_df.shape"
      ],
      "execution_count": null,
      "outputs": []
    },
    {
      "cell_type": "markdown",
      "metadata": {
        "id": "hVMS0xhTWIQS"
      },
      "source": [
        "# Graficos das Variaveis"
      ]
    },
    {
      "cell_type": "code",
      "metadata": {
        "id": "UxCScANQgW2z"
      },
      "source": [
        "import matplotlib.pyplot as plt\r\n",
        "import seaborn as sns\r\n",
        "sns.set()"
      ],
      "execution_count": null,
      "outputs": []
    },
    {
      "cell_type": "code",
      "metadata": {
        "id": "SPOAnas1geai"
      },
      "source": [
        "f, axs = plt.subplots(5, 4,figsize=(20,20))\r\n",
        "for i,col in enumerate(UC1_df.columns[3:]):\r\n",
        "  plt.subplot(5, 4, i+1)\r\n",
        "  plt.title(col)\r\n",
        "  plt.plot(UC1_df.DATA, UC1_df[col])"
      ],
      "execution_count": null,
      "outputs": []
    }
  ]
}
